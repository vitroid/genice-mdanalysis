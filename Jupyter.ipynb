{
 "cells": [
  {
   "cell_type": "markdown",
   "id": "primary-dominant",
   "metadata": {
    "colab_type": "text",
    "id": "view-in-github"
   },
   "source": [
    "<a href=\"https://colab.research.google.com/github/vitroid/genice-mdanalysis/blob/main/Jupyter.ipynb\" target=\"_parent\"><img src=\"https://colab.research.google.com/assets/colab-badge.svg\" alt=\"Open In Colab\"/></a>"
   ]
  },
  {
   "cell_type": "code",
   "execution_count": null,
   "id": "JFWU6buqHRjs",
   "metadata": {
    "id": "JFWU6buqHRjs"
   },
   "outputs": [],
   "source": [
    "# To run it on the Google Colab,\n",
    "\n",
    "# Install version 2.1 of GenIce\n",
    "! pip install GenIce2\n",
    "\n",
    "# And install genice2-mdanalysis plugin from PyPI\n",
    "! pip install genice2-mdanalysis\n",
    "\n",
    "exit()"
   ]
  },
  {
   "cell_type": "code",
   "execution_count": null,
   "id": "acceptable-toolbox",
   "metadata": {
    "id": "acceptable-toolbox"
   },
   "outputs": [],
   "source": [
    "from genice2.genice import GenIce\n",
    "from genice2.plugin import Lattice, Format, Molecule\n",
    "\n",
    "lattice    = Lattice(\"CS1\") \n",
    "formatter  = Format(\"mdanalysis\")\n",
    "water      = Molecule(\"spce\")\n",
    "guests = {\"12\": {\"ch4\":1.0},               # Fill 100% of 12-hedral cages with methanes.\n",
    "          \"14\": {\"thf\": 0.5, \"H2\": 0.5}}  # Fill 50% of 14-hedral cages with THFs and 50% with hydrogens.\n",
    "# Make the MDAnalysis universe.\n",
    "u = GenIce(lattice, reshape=[[2,0,0],[0,2,0],[0,0,2]]).generate_ice(formatter, water=water, guests=guests)\n",
    "u"
   ]
  },
  {
   "cell_type": "code",
   "execution_count": null,
   "id": "palestinian-rings",
   "metadata": {},
   "outputs": [],
   "source": [
    "from MDAnalysis.analysis.rdf import InterRDF\n",
    "g1 = u.select_atoms(\"name O\")\n",
    "rdf = InterRDF(g1, g1, nbins=75, range=(0.2, 15.0))\n",
    "rdf.run()\n",
    "\n",
    "from matplotlib import pyplot as plt\n",
    "plt.plot(rdf.bins, rdf.rdf)"
   ]
  },
  {
   "cell_type": "code",
   "execution_count": null,
   "id": "political-clear",
   "metadata": {
    "id": "political-clear"
   },
   "outputs": [],
   "source": [
    "# Save as a .gro file.\n",
    "allatoms = u.select_atoms(\"all\")\n",
    "allatoms.write(\"CS1_mdanalysis.gro\")"
   ]
  }
 ],
 "metadata": {
  "colab": {
   "include_colab_link": true,
   "name": "Jupyter.ipynb",
   "provenance": []
  },
  "kernelspec": {
   "display_name": "Python 3",
   "language": "python",
   "name": "python3"
  },
  "language_info": {
   "codemirror_mode": {
    "name": "ipython",
    "version": 3
   },
   "file_extension": ".py",
   "mimetype": "text/x-python",
   "name": "python",
   "nbconvert_exporter": "python",
   "pygments_lexer": "ipython3",
   "version": "3.11.4"
  }
 },
 "nbformat": 4,
 "nbformat_minor": 5
}
