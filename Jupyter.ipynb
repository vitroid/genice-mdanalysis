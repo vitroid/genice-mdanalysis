{
 "cells": [
  {
   "cell_type": "code",
   "execution_count": 22,
   "id": "alike-brush",
   "metadata": {},
   "outputs": [],
   "source": [
    "from genice2.genice import GenIce\n",
    "from genice2.plugin import Lattice, Format, Molecule\n",
    "\n",
    "lattice    = Lattice(\"CS1\") \n",
    "formatter  = Format(\"mdanalysis\")\n",
    "water      = Molecule(\"physical_water\")\n",
    "guests = {\"12\": {\"ch4\":1.0},               # Fill 100% of 12-hedral cages with methanes.\n",
    "          \"14\": {\"thf\": 0.5, \"H2\": 0.5}}  # Fill 50% of 14-hedral cages with THFs and 50% with hydrogens.\n",
    "u = GenIce(lattice, rep=(2,2,2)).generate_ice(water, formatter, guests=guests)"
   ]
  },
  {
   "cell_type": "code",
   "execution_count": 23,
   "id": "overall-restriction",
   "metadata": {},
   "outputs": [],
   "source": [
    "# Save as"
   ]
  },
  {
   "cell_type": "code",
   "execution_count": 25,
   "id": "herbal-level",
   "metadata": {},
   "outputs": [
    {
     "data": {
      "application/vnd.jupyter.widget-view+json": {
       "model_id": "7ce050c53d5545d5a3abd7a285a8856d",
       "version_major": 2,
       "version_minor": 0
      },
      "text/plain": [
       "NGLWidget()"
      ]
     },
     "metadata": {},
     "output_type": "display_data"
    }
   ],
   "source": [
    "# nglview is not available on Google Colaboratory.\n",
    "\n",
    "import nglview as nv\n",
    "\n",
    "sol_view = nv.show_mdanalysis(u)\n",
    "sol_view.add_representation('ball+stick', selection='all')\n",
    "sol_view.center()\n",
    "sol_view"
   ]
  },
  {
   "cell_type": "code",
   "execution_count": null,
   "id": "nonprofit-rachel",
   "metadata": {},
   "outputs": [],
   "source": []
  }
 ],
 "metadata": {
  "kernelspec": {
   "display_name": "Python 3",
   "language": "python",
   "name": "python3"
  },
  "language_info": {
   "codemirror_mode": {
    "name": "ipython",
    "version": 3
   },
   "file_extension": ".py",
   "mimetype": "text/x-python",
   "name": "python",
   "nbconvert_exporter": "python",
   "pygments_lexer": "ipython3",
   "version": "3.9.2"
  }
 },
 "nbformat": 4,
 "nbformat_minor": 5
}
