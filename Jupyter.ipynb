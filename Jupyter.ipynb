{
  "nbformat": 4,
  "nbformat_minor": 5,
  "metadata": {
    "kernelspec": {
      "display_name": "Python 3",
      "language": "python",
      "name": "python3"
    },
    "language_info": {
      "codemirror_mode": {
        "name": "ipython",
        "version": 3
      },
      "file_extension": ".py",
      "mimetype": "text/x-python",
      "name": "python",
      "nbconvert_exporter": "python",
      "pygments_lexer": "ipython3",
      "version": "3.9.2"
    },
    "colab": {
      "name": "Jupyter.ipynb",
      "provenance": [],
      "include_colab_link": true
    }
  },
  "cells": [
    {
      "cell_type": "markdown",
      "metadata": {
        "id": "view-in-github",
        "colab_type": "text"
      },
      "source": [
        "<a href=\"https://colab.research.google.com/github/vitroid/genice-mdanalysis/blob/main/Jupyter.ipynb\" target=\"_parent\"><img src=\"https://colab.research.google.com/assets/colab-badge.svg\" alt=\"Open In Colab\"/></a>"
      ]
    },
    {
      "cell_type": "code",
      "metadata": {
        "id": "JFWU6buqHRjs"
      },
      "source": [
        "# To run it on the Google Colab,\n",
        "\n",
        "# Install version 2.1beta of GenIce\n",
        "!pip install GenIce2\n",
        "\n",
        "# Install the newest (dev) version of MDAnalysls from source\n",
        "! git clone https://github.com/MDAnalysis/MDAnalysis.git\n",
        "! cd MDAnalysis/package; ./setup.py install\n",
        "\n",
        "# And install genice2-mdanalysis plugin from PyPI\n",
        "!pip install genice2-mdanalysis\n",
        "\n",
        "exit()"
      ],
      "id": "JFWU6buqHRjs",
      "execution_count": null,
      "outputs": []
    },
    {
      "cell_type": "code",
      "metadata": {
        "id": "acceptable-toolbox"
      },
      "source": [
        "from genice2.genice import GenIce\n",
        "from genice2.plugin import Lattice, Format, Molecule\n",
        "\n",
        "lattice    = Lattice(\"CS1\") \n",
        "formatter  = Format(\"mdanalysis\")\n",
        "water      = Molecule(\"spce\")\n",
        "guests = {\"12\": {\"ch4\":1.0},               # Fill 100% of 12-hedral cages with methanes.\n",
        "          \"14\": {\"thf\": 0.5, \"H2\": 0.5}}  # Fill 50% of 14-hedral cages with THFs and 50% with hydrogens.\n",
        "# Make the MDAnalysis universe.\n",
        "u = GenIce(lattice, rep=(2,2,2)).generate_ice(water, formatter, guests=guests)\n",
        "u"
      ],
      "id": "acceptable-toolbox",
      "execution_count": null,
      "outputs": []
    },
    {
      "cell_type": "code",
      "metadata": {
        "id": "political-clear"
      },
      "source": [
        "# Save as a .gro file.\n",
        "allatoms = u.select_atoms(\"all\")\n",
        "allatoms.write(\"CS1_mdanalysis.gro\")"
      ],
      "id": "political-clear",
      "execution_count": 2,
      "outputs": []
    },
    {
      "cell_type": "code",
      "metadata": {
        "id": "assumed-state",
        "colab": {
          "referenced_widgets": [
            "2a90b4df5c0d4822be8120bc34e8d24f",
            "8cd49256ad2349219a519ef26dc2c0eb"
          ]
        },
        "outputId": "b48a9866-520a-44d9-9f20-5387fca42ba2"
      },
      "source": [
        "# nglview is not available on Google Colaboratory.\n",
        "import nglview as nv\n",
        "\n",
        "sol_view = nv.show_mdanalysis(u)\n",
        "sol_view.add_representation('ball+stick', selection='all')\n",
        "sol_view.center()\n",
        "sol_view"
      ],
      "id": "assumed-state",
      "execution_count": null,
      "outputs": [
        {
          "output_type": "display_data",
          "data": {
            "application/vnd.jupyter.widget-view+json": {
              "model_id": "2a90b4df5c0d4822be8120bc34e8d24f",
              "version_major": 2,
              "version_minor": 0
            },
            "text/plain": [
              ""
            ]
          },
          "metadata": {
            "tags": []
          }
        },
        {
          "output_type": "display_data",
          "data": {
            "application/vnd.jupyter.widget-view+json": {
              "model_id": "8cd49256ad2349219a519ef26dc2c0eb",
              "version_major": 2,
              "version_minor": 0
            },
            "text/plain": [
              "NGLWidget()"
            ]
          },
          "metadata": {
            "tags": []
          }
        }
      ]
    }
  ]
}