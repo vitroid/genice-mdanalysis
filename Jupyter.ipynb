{
 "cells": [
  {
   "cell_type": "markdown",
   "id": "primary-dominant",
   "metadata": {
    "colab_type": "text",
    "id": "view-in-github"
   },
   "source": [
    "<a href=\"https://colab.research.google.com/github/vitroid/genice-mdanalysis/blob/main/Jupyter.ipynb\" target=\"_parent\"><img src=\"https://colab.research.google.com/assets/colab-badge.svg\" alt=\"Open In Colab\"/></a>"
   ]
  },
  {
   "cell_type": "code",
   "execution_count": null,
   "id": "JFWU6buqHRjs",
   "metadata": {
    "id": "JFWU6buqHRjs"
   },
   "outputs": [],
   "source": [
    "# To run it on the Google Colab,\n",
    "\n",
    "# Install version 2.1 of GenIce\n",
    "!pip install GenIce2\n",
    "\n",
    "# Install the newest (dev) version of MDAnalysls from source\n",
    "! git clone https://github.com/MDAnalysis/MDAnalysis.git\n",
    "! cd MDAnalysis/package; ./setup.py install\n",
    "\n",
    "# And install genice2-mdanalysis plugin from PyPI\n",
    "! pip install genice2-mdanalysis\n",
    "\n",
    "exit()"
   ]
  },
  {
   "cell_type": "code",
   "execution_count": 1,
   "id": "acceptable-toolbox",
   "metadata": {
    "id": "acceptable-toolbox"
   },
   "outputs": [
    {
     "name": "stderr",
     "output_type": "stream",
     "text": [
      "/Users/matto/venvs/genice2arm3/lib/python3.9/site-packages/MDAnalysis-2.0.0.dev0-py3.9-macosx-11-arm64.egg/MDAnalysis/core/universe.py:437: UserWarning: Segments specified but no segment_resindex given.  All residues will be placed in first Segment\n",
      "  warnings.warn(\n"
     ]
    },
    {
     "data": {
      "text/plain": [
       "<Universe with 1544 atoms>"
      ]
     },
     "execution_count": 1,
     "metadata": {},
     "output_type": "execute_result"
    }
   ],
   "source": [
    "from genice2.genice import GenIce\n",
    "from genice2.plugin import Lattice, Format, Molecule\n",
    "\n",
    "lattice    = Lattice(\"CS1\") \n",
    "formatter  = Format(\"mdanalysis\")\n",
    "water      = Molecule(\"spce\")\n",
    "guests = {\"12\": {\"ch4\":1.0},               # Fill 100% of 12-hedral cages with methanes.\n",
    "          \"14\": {\"thf\": 0.5, \"H2\": 0.5}}  # Fill 50% of 14-hedral cages with THFs and 50% with hydrogens.\n",
    "# Make the MDAnalysis universe.\n",
    "u = GenIce(lattice, rep=(2,2,2)).generate_ice(formatter, water=water, guests=guests)\n",
    "u"
   ]
  },
  {
   "cell_type": "code",
   "execution_count": 2,
   "id": "palestinian-rings",
   "metadata": {},
   "outputs": [
    {
     "data": {
      "text/plain": [
       "[<matplotlib.lines.Line2D at 0x13a2b5790>]"
      ]
     },
     "execution_count": 2,
     "metadata": {},
     "output_type": "execute_result"
    },
    {
     "data": {
      "image/png": "[encoded data removed]",
      "text/plain": [
       "<Figure size 432x288 with 1 Axes>"
      ]
     },
     "metadata": {
      "needs_background": "light"
     },
     "output_type": "display_data"
    }
   ],
   "source": [
    "from MDAnalysis.analysis.rdf import InterRDF\n",
    "g1 = u.select_atoms(\"name O\")\n",
    "rdf = InterRDF(g1, g1, nbins=75, range=(0.2, 15.0))\n",
    "rdf.run()\n",
    "\n",
    "from matplotlib import pyplot as plt\n",
    "plt.plot(rdf.bins, rdf.rdf)"
   ]
  },
  {
   "cell_type": "code",
   "execution_count": 2,
   "id": "political-clear",
   "metadata": {
    "id": "political-clear"
   },
   "outputs": [],
   "source": [
    "# Save as a .gro file.\n",
    "allatoms = u.select_atoms(\"all\")\n",
    "allatoms.write(\"CS1_mdanalysis.gro\")"
   ]
  },
  {
   "cell_type": "code",
   "execution_count": null,
   "id": "assumed-state",
   "metadata": {
    "colab": {
     "referenced_widgets": [
      "2a90b4df5c0d4822be8120bc34e8d24f",
      "8cd49256ad2349219a519ef26dc2c0eb"
     ]
    },
    "id": "assumed-state",
    "outputId": "b48a9866-520a-44d9-9f20-5387fca42ba2"
   },
   "outputs": [
    {
     "data": {
      "application/vnd.jupyter.widget-view+json": {
       "model_id": "2a90b4df5c0d4822be8120bc34e8d24f",
       "version_major": 2,
       "version_minor": 0
      },
      "text/plain": []
     },
     "metadata": {
      "tags": []
     },
     "output_type": "display_data"
    },
    {
     "data": {
      "application/vnd.jupyter.widget-view+json": {
       "model_id": "8cd49256ad2349219a519ef26dc2c0eb",
       "version_major": 2,
       "version_minor": 0
      },
      "text/plain": [
       "NGLWidget()"
      ]
     },
     "metadata": {
      "tags": []
     },
     "output_type": "display_data"
    }
   ],
   "source": [
    "# nglview is not available on Google Colaboratory.\n",
    "import nglview as nv\n",
    "\n",
    "sol_view = nv.show_mdanalysis(u)\n",
    "sol_view.add_representation('ball+stick', selection='all')\n",
    "sol_view.center()\n",
    "sol_view"
   ]
  }
 ],
 "metadata": {
  "colab": {
   "include_colab_link": true,
   "name": "Jupyter.ipynb",
   "provenance": []
  },
  "kernelspec": {
   "display_name": "Python 3",
   "language": "python",
   "name": "python3"
  },
  "language_info": {
   "codemirror_mode": {
    "name": "ipython",
    "version": 3
   },
   "file_extension": ".py",
   "mimetype": "text/x-python",
   "name": "python",
   "nbconvert_exporter": "python",
   "pygments_lexer": "ipython3",
   "version": "3.9.2"
  }
 },
 "nbformat": 4,
 "nbformat_minor": 5
}
