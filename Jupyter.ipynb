{
 "cells": [
  {
   "cell_type": "code",
   "execution_count": 7,
   "id": "rocky-christianity",
   "metadata": {},
   "outputs": [
    {
     "name": "stderr",
     "output_type": "stream",
     "text": [
      "/Users/matto/venvs/mdanalysis/lib/python3.9/site-packages/MDAnalysis-2.0.0.dev0-py3.9-macosx-11-arm64.egg/MDAnalysis/core/universe.py:437: UserWarning: Segments specified but no segment_resindex given.  All residues will be placed in first Segment\n",
      "  warnings.warn(\n"
     ]
    }
   ],
   "source": [
    "from genice2.genice import GenIce\n",
    "from genice2.plugin import Lattice, Format, Molecule\n",
    "\n",
    "lattice    = Lattice(\"1c\") \n",
    "formatter  = Format(\"mdanalysis\")\n",
    "water      = Molecule(\"physical_water\")\n",
    "u = GenIce(lattice, rep=(4,4,4)).generate_ice(water, formatter)"
   ]
  },
  {
   "cell_type": "code",
   "execution_count": null,
   "id": "identical-unemployment",
   "metadata": {},
   "outputs": [],
   "source": [
    "# Save as"
   ]
  },
  {
   "cell_type": "code",
   "execution_count": 6,
   "id": "intellectual-employee",
   "metadata": {},
   "outputs": [
    {
     "data": {
      "application/vnd.jupyter.widget-view+json": {
       "model_id": "4cbd19d8d34c49b7a5d96660b9a2140b",
       "version_major": 2,
       "version_minor": 0
      },
      "text/plain": [
       "NGLWidget()"
      ]
     },
     "metadata": {},
     "output_type": "display_data"
    }
   ],
   "source": [
    "import nglview as nv\n",
    "\n",
    "sol_view = nv.show_mdanalysis(u)\n",
    "sol_view.add_representation('ball+stick', selection='all')\n",
    "sol_view.center()\n",
    "sol_view"
   ]
  },
  {
   "cell_type": "code",
   "execution_count": null,
   "id": "cathedral-policy",
   "metadata": {},
   "outputs": [],
   "source": []
  }
 ],
 "metadata": {
  "kernelspec": {
   "display_name": "Python 3",
   "language": "python",
   "name": "python3"
  },
  "language_info": {
   "codemirror_mode": {
    "name": "ipython",
    "version": 3
   },
   "file_extension": ".py",
   "mimetype": "text/x-python",
   "name": "python",
   "nbconvert_exporter": "python",
   "pygments_lexer": "ipython3",
   "version": "3.9.2"
  }
 },
 "nbformat": 4,
 "nbformat_minor": 5
}
