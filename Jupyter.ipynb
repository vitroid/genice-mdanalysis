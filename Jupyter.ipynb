{
 "cells": [
  {
   "cell_type": "code",
   "execution_count": 1,
   "id": "acceptable-toolbox",
   "metadata": {},
   "outputs": [
    {
     "name": "stderr",
     "output_type": "stream",
     "text": [
      "/Users/matto/venvs/mdanalysis/lib/python3.9/site-packages/MDAnalysis-2.0.0.dev0-py3.9-macosx-11-arm64.egg/MDAnalysis/core/universe.py:437: UserWarning: Segments specified but no segment_resindex given.  All residues will be placed in first Segment\n",
      "  warnings.warn(\n"
     ]
    }
   ],
   "source": [
    "from genice2.genice import GenIce\n",
    "from genice2.plugin import Lattice, Format, Molecule\n",
    "\n",
    "lattice    = Lattice(\"CS1\") \n",
    "formatter  = Format(\"mdanalysis\")\n",
    "water      = Molecule(\"spce\")\n",
    "guests = {\"12\": {\"ch4\":1.0},               # Fill 100% of 12-hedral cages with methanes.\n",
    "          \"14\": {\"thf\": 0.5, \"H2\": 0.5}}  # Fill 50% of 14-hedral cages with THFs and 50% with hydrogens.\n",
    "# Make the MDAnalysis universe.\n",
    "u = GenIce(lattice, rep=(2,2,2)).generate_ice(water, formatter, guests=guests)"
   ]
  },
  {
   "cell_type": "code",
   "execution_count": 4,
   "id": "political-clear",
   "metadata": {},
   "outputs": [],
   "source": [
    "# Save as a .gro file.\n",
    "allatoms = u.select_atoms(\"all\")\n",
    "allatoms.write(\"CS1_mdanalysis.gro\")"
   ]
  },
  {
   "cell_type": "code",
   "execution_count": 3,
   "id": "assumed-state",
   "metadata": {},
   "outputs": [
    {
     "data": {
      "application/vnd.jupyter.widget-view+json": {
       "model_id": "2a90b4df5c0d4822be8120bc34e8d24f",
       "version_major": 2,
       "version_minor": 0
      },
      "text/plain": []
     },
     "metadata": {},
     "output_type": "display_data"
    },
    {
     "data": {
      "application/vnd.jupyter.widget-view+json": {
       "model_id": "8cd49256ad2349219a519ef26dc2c0eb",
       "version_major": 2,
       "version_minor": 0
      },
      "text/plain": [
       "NGLWidget()"
      ]
     },
     "metadata": {},
     "output_type": "display_data"
    }
   ],
   "source": [
    "# nglview is not available on Google Colaboratory.\n",
    "import nglview as nv\n",
    "\n",
    "sol_view = nv.show_mdanalysis(u)\n",
    "sol_view.add_representation('ball+stick', selection='all')\n",
    "sol_view.center()\n",
    "sol_view"
   ]
  },
  {
   "cell_type": "code",
   "execution_count": null,
   "id": "continental-consent",
   "metadata": {},
   "outputs": [],
   "source": []
  }
 ],
 "metadata": {
  "kernelspec": {
   "display_name": "Python 3",
   "language": "python",
   "name": "python3"
  },
  "language_info": {
   "codemirror_mode": {
    "name": "ipython",
    "version": 3
   },
   "file_extension": ".py",
   "mimetype": "text/x-python",
   "name": "python",
   "nbconvert_exporter": "python",
   "pygments_lexer": "ipython3",
   "version": "3.9.2"
  }
 },
 "nbformat": 4,
 "nbformat_minor": 5
}
