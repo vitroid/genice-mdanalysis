{
 "cells": [
  {
   "cell_type": "code",
   "execution_count": 1,
   "id": "limiting-blind",
   "metadata": {},
   "outputs": [],
   "source": [
    "import pickle\n",
    "\n",
    "u = pickle.load(open(\"ice1c.pickle\", \"rb\"))"
   ]
  },
  {
   "cell_type": "markdown",
   "id": "convertible-theory",
   "metadata": {},
   "source": [
    "Install nglview and enable Jupyter extension.\n",
    "```shell\n",
    "% pip install nglview\n",
    "% jupyter-nbextension enable nglview --py --sys-prefix\n",
    "% jupyter notebook\n",
    "```"
   ]
  },
  {
   "cell_type": "code",
   "execution_count": 3,
   "id": "naval-potter",
   "metadata": {},
   "outputs": [
    {
     "data": {
      "application/vnd.jupyter.widget-view+json": {
       "model_id": "d5d44846626841959dd7cd9fa25c06db",
       "version_major": 2,
       "version_minor": 0
      },
      "text/plain": []
     },
     "metadata": {},
     "output_type": "display_data"
    },
    {
     "data": {
      "application/vnd.jupyter.widget-view+json": {
       "model_id": "537e26b1abde422fb8d5b914aae5ee2e",
       "version_major": 2,
       "version_minor": 0
      },
      "text/plain": [
       "NGLWidget()"
      ]
     },
     "metadata": {},
     "output_type": "display_data"
    }
   ],
   "source": [
    "import nglview as nv\n",
    "\n",
    "sol_view = nv.show_mdanalysis(u)\n",
    "sol_view.add_representation('ball+stick', selection='all')\n",
    "sol_view.center()\n",
    "sol_view"
   ]
  }
 ],
 "metadata": {
  "kernelspec": {
   "display_name": "Python 3",
   "language": "python",
   "name": "python3"
  },
  "language_info": {
   "codemirror_mode": {
    "name": "ipython",
    "version": 3
   },
   "file_extension": ".py",
   "mimetype": "text/x-python",
   "name": "python",
   "nbconvert_exporter": "python",
   "pygments_lexer": "ipython3",
   "version": "3.9.2"
  }
 },
 "nbformat": 4,
 "nbformat_minor": 5
}
