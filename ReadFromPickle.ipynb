{
 "cells": [
  {
   "cell_type": "code",
   "execution_count": 4,
   "id": "limiting-blind",
   "metadata": {},
   "outputs": [],
   "source": [
    "import pickle\n",
    "\n",
    "u = pickle.load(open(\"ice1c.pickle\", \"rb\"))"
   ]
  },
  {
   "cell_type": "markdown",
   "id": "composite-november",
   "metadata": {},
   "source": [
    "Install nglview and enable Jupyter extension.\n",
    "```shell\n",
    "% pip install nglview\n",
    "% jupyter-nbextension enable nglview --py --sys-prefix\n",
    "% jupyter notebook\n",
    "```"
   ]
  },
  {
   "cell_type": "code",
   "execution_count": 5,
   "id": "naval-potter",
   "metadata": {},
   "outputs": [
    {
     "data": {
      "application/vnd.jupyter.widget-view+json": {
       "model_id": "a13c4d33ffab4929a1796f61629fccdb",
       "version_major": 2,
       "version_minor": 0
      },
      "text/plain": [
       "NGLWidget()"
      ]
     },
     "metadata": {},
     "output_type": "display_data"
    }
   ],
   "source": [
    "import nglview as nv\n",
    "\n",
    "sol_view = nv.show_mdanalysis(u)\n",
    "sol_view.add_representation('ball+stick', selection='all')\n",
    "sol_view.center()\n",
    "sol_view"
   ]
  },
  {
   "cell_type": "code",
   "execution_count": null,
   "id": "convenient-genesis",
   "metadata": {},
   "outputs": [],
   "source": []
  }
 ],
 "metadata": {
  "kernelspec": {
   "display_name": "Python 3",
   "language": "python",
   "name": "python3"
  },
  "language_info": {
   "codemirror_mode": {
    "name": "ipython",
    "version": 3
   },
   "file_extension": ".py",
   "mimetype": "text/x-python",
   "name": "python",
   "nbconvert_exporter": "python",
   "pygments_lexer": "ipython3",
   "version": "3.9.2"
  }
 },
 "nbformat": 4,
 "nbformat_minor": 5
}
